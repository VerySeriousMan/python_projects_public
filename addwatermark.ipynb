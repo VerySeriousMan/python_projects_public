{
 "cells": [
  {
   "cell_type": "code",
   "execution_count": 1,
   "id": "ffd0c32a",
   "metadata": {},
   "outputs": [],
   "source": [
    "import cv2\n",
    "import numpy as np\n",
    "import os\n",
    "\n",
    "from matplotlib import pyplot as plt"
   ]
  },
  {
   "cell_type": "code",
   "execution_count": 7,
   "id": "a956ab9f",
   "metadata": {},
   "outputs": [],
   "source": [
    "def add_watermark(rootpath):\n",
    "    for f_filename in os.listdir(rootpath):\n",
    "        path=os.path.join(rootpath,f_filename)\n",
    "        need_text=f_filename\n",
    "        for filename in os.listdir(path):\n",
    "            p_path=os.path.join(path,filename)\n",
    "            img=cv2.imread(p_path)\n",
    "            size = img.shape\n",
    "            height=size[0]\n",
    "            RGB_img = cv2.cvtColor(img, cv2.COLOR_BGR2RGB)\n",
    "            blank_img = np.zeros(shape=(RGB_img.shape[0],RGB_img.shape[1],3), dtype=np.uint8)\n",
    "            font = cv2.FONT_HERSHEY_SIMPLEX\n",
    "            cv2.putText(blank_img,text=need_text,org=(10, height-20),fontFace=font,fontScale= 2,color=(255,0,0),thickness=10,lineType=cv2.LINE_4)\n",
    "            blended = cv2.addWeighted(src1=RGB_img, alpha=0.7,src2=blank_img, beta=1, gamma = 2)\n",
    "            plt.imsave(p_path, blended)"
   ]
  },
  {
   "cell_type": "code",
   "execution_count": 17,
   "id": "722a7520",
   "metadata": {},
   "outputs": [],
   "source": [
    "mark = 'X'\n",
    "add_num = 0"
   ]
  },
  {
   "cell_type": "code",
   "execution_count": 24,
   "id": "72b2be68",
   "metadata": {},
   "outputs": [],
   "source": [
    "def add_watermark_with_nums(rootpath):\n",
    "    add_num = 0\n",
    "    for f_filename in os.listdir(rootpath):\n",
    "        path=os.path.join(rootpath,f_filename)\n",
    "        #mark_text=f_filename\n",
    "        for filename in os.listdir(path):\n",
    "            mark_text = filename.split('_')[1][:-2]\n",
    "            device = filename.split('_')[2][:-3]\n",
    "            p_path=os.path.join(path,filename)\n",
    "            img=cv2.imread(p_path)\n",
    "            size = img.shape\n",
    "            height=size[0]\n",
    "            RGB_img = cv2.cvtColor(img, cv2.COLOR_BGR2RGB)\n",
    "            blank_img = np.zeros(shape=(RGB_img.shape[0],RGB_img.shape[1],3), dtype=np.uint8)\n",
    "            font = cv2.FONT_HERSHEY_SIMPLEX\n",
    "            lens = 0.7\n",
    "            if device != 'B':\n",
    "                lens = 0.4\n",
    "            cv2.putText(blank_img,text=device+mark_text+mark+str(add_num),org=(5, height-5),fontFace=cv2.FONT_HERSHEY_COMPLEX,fontScale= lens,color=(255,0,0),thickness=1,lineType=cv2.LINE_4)\n",
    "            blended = cv2.addWeighted(src1=RGB_img, alpha=0.7,src2=blank_img, beta=1, gamma = 2)\n",
    "            plt.imsave(p_path, blended)\n",
    "            add_num = add_num+1"
   ]
  },
  {
   "cell_type": "code",
   "execution_count": 25,
   "id": "a2c97183",
   "metadata": {},
   "outputs": [],
   "source": [
    "#以下为测试内容"
   ]
  },
  {
   "cell_type": "code",
   "execution_count": 9,
   "id": "62d7a634",
   "metadata": {},
   "outputs": [],
   "source": [
    "filename = 'xxx.bmp'"
   ]
  },
  {
   "cell_type": "code",
   "execution_count": 10,
   "id": "e1ab1879",
   "metadata": {},
   "outputs": [],
   "source": [
    "p_path = r'xxx'"
   ]
  },
  {
   "cell_type": "code",
   "execution_count": 11,
   "id": "ba812c19",
   "metadata": {},
   "outputs": [],
   "source": [
    "img=cv2.imread(p_path)"
   ]
  },
  {
   "cell_type": "code",
   "execution_count": 15,
   "id": "2bbb25ce",
   "metadata": {},
   "outputs": [],
   "source": [
    "size = img.shape"
   ]
  },
  {
   "cell_type": "code",
   "execution_count": 17,
   "id": "ca702126",
   "metadata": {},
   "outputs": [],
   "source": [
    "height=size[0]\n",
    "RGB_img = cv2.cvtColor(img, cv2.COLOR_BGR2RGB)\n",
    "blank_img = np.zeros(shape=(RGB_img.shape[0],RGB_img.shape[1],3), dtype=np.uint8)\n",
    "font = cv2.FONT_HERSHEY_SIMPLEX\n",
    "cv2.putText(blank_img,text=filename.split('-')[0],org=(10, height-20),fontFace=font,fontScale= 2,color=(255,0,0),thickness=10,lineType=cv2.LINE_4)\n",
    "blended = cv2.addWeighted(src1=RGB_img, alpha=0.7,src2=blank_img, beta=1, gamma = 2)\n",
    "plt.imsave(p_path, blended)"
   ]
  },
  {
   "cell_type": "code",
   "execution_count": null,
   "id": "1381bd0a",
   "metadata": {},
   "outputs": [],
   "source": []
  }
 ],
 "metadata": {
  "kernelspec": {
   "display_name": "Python 3 (ipykernel)",
   "language": "python",
   "name": "python3"
  },
  "language_info": {
   "codemirror_mode": {
    "name": "ipython",
    "version": 3
   },
   "file_extension": ".py",
   "mimetype": "text/x-python",
   "name": "python",
   "nbconvert_exporter": "python",
   "pygments_lexer": "ipython3",
   "version": "3.11.5"
  }
 },
 "nbformat": 4,
 "nbformat_minor": 5
}
